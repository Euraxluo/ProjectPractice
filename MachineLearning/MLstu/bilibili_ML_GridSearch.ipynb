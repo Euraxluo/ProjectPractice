{
 "cells": [
  {
   "cell_type": "markdown",
   "metadata": {},
   "source": [
    "# 超参数：\n",
    "###  在算法运行前需要决定的参数\n",
    "# 模型参数：\n",
    "###  算法运行过程中学习的参数\n",
    "\n",
    "### knn没有模型参数，只有超参数K\n",
    "#### 调参（调整超参数）\n",
    "#### 库中预先封装的超参数一般是经验数值"
   ]
  },
  {
   "cell_type": "code",
   "execution_count": 1,
   "metadata": {},
   "outputs": [],
   "source": [
    "from sklearn import datasets\n",
    "digits = datasets.load_digits()\n",
    "X = digits.data#特征矩阵\n",
    "y = digits.target"
   ]
  },
  {
   "cell_type": "markdown",
   "metadata": {},
   "source": [
    "## 寻找最好的k（自动调参）"
   ]
  },
  {
   "cell_type": "code",
   "execution_count": 2,
   "metadata": {},
   "outputs": [
    {
     "data": {
      "text/plain": [
       "0.9805555555555555"
      ]
     },
     "execution_count": 2,
     "metadata": {},
     "output_type": "execute_result"
    }
   ],
   "source": [
    "from sklearn.model_selection import train_test_split\n",
    "X_train,X_test,y_train,y_test = train_test_split(X,y,test_size=0.2,random_state=100)\n",
    "\n",
    "from sklearn.neighbors import KNeighborsClassifier#加载算法 \n",
    "KNN_classifier = KNeighborsClassifier(n_neighbors=10)#K=10\n",
    "KNN_classifier.fit(X_train,y_train)\n",
    "KNN_classifier.score(X_test,y_test)"
   ]
  },
  {
   "cell_type": "code",
   "execution_count": 3,
   "metadata": {},
   "outputs": [
    {
     "name": "stdout",
     "output_type": "stream",
     "text": [
      "best_k 3\n",
      "best_score 0.9972222222222222\n"
     ]
    }
   ],
   "source": [
    "best_score = 0.0\n",
    "best_k = -1\n",
    "for k in range(1,11):\n",
    "    KNN_classifier = KNeighborsClassifier(n_neighbors=k)#K=-1\n",
    "    KNN_classifier.fit(X_train,y_train)\n",
    "    score = KNN_classifier.score(X_test,y_test)\n",
    "    if score > best_score:\n",
    "        best_k = k\n",
    "        best_score = score\n",
    "print(\"best_k\",best_k)\n",
    "print(\"best_score\",best_score)"
   ]
  },
  {
   "cell_type": "markdown",
   "metadata": {},
   "source": [
    "### 距离权值 knn{隐藏的超参数}"
   ]
  },
  {
   "cell_type": "code",
   "execution_count": 4,
   "metadata": {},
   "outputs": [
    {
     "name": "stdout",
     "output_type": "stream",
     "text": [
      "best_k= 3\n",
      "best_method= uniform\n",
      "best_score= 0.9972222222222222\n"
     ]
    }
   ],
   "source": [
    "best_score = 0.0\n",
    "best_method = \"\"\n",
    "best_k = -1\n",
    "for method in [\"uniform\",\"distance\"]:#不考虑距离权重和考虑距离权重\n",
    "    for k in range(1,11):\n",
    "        KNN_classifier = KNeighborsClassifier(n_neighbors=k,weights=method)#K=-1,method=\"\"\n",
    "        KNN_classifier.fit(X_train,y_train)\n",
    "        score = KNN_classifier.score(X_test,y_test)\n",
    "        if score > best_score:\n",
    "            best_k = k\n",
    "            best_score = score\n",
    "            best_method = method\n",
    "            \n",
    "print(\"best_k=\",best_k)\n",
    "print(\"best_method=\",best_method)\n",
    "print(\"best_score=\",best_score)"
   ]
  },
  {
   "cell_type": "markdown",
   "metadata": {},
   "source": [
    "## 距离\n",
    "\n",
    "### 曼哈顿距离(在每个维度的距离):`(np.sum(A - B)**1)**(1/1)`\n",
    "### 欧拉距离(直接距离):`(np.sum((A - B)**2))**(1/2)`\n",
    "### 推导==>明可夫斯基距离:`(np.sum((A - B)**p))**(1/p)`\n",
    "#### 由此得到新的超参数：p\n",
    "\n",
    "### 向量空间余弦相似度Cosine Similarity\n",
    "### 调整余弦相似度Adjusted Cosine Similarity\n",
    "### 皮尔森相关系数Pearson Correlation Coefficient\n",
    "### Jaccard相似系数Jaccard Coefficient\n",
    "#### 在sklearn.neighbors.KNeighborsClassifier还有一个超参数：metric.是一个string,由class sklearn.neighbors.DistanceMetric定义"
   ]
  },
  {
   "cell_type": "markdown",
   "metadata": {},
   "source": [
    "### 搜索明可夫斯基距离的p"
   ]
  },
  {
   "cell_type": "code",
   "execution_count": 21,
   "metadata": {},
   "outputs": [
    {
     "name": "stdout",
     "output_type": "stream",
     "text": [
      "best_k= 1\n",
      "best_p= 2\n",
      "best_score= 0.9944444444444445\n",
      "Wall time: 27.4 s\n"
     ]
    }
   ],
   "source": [
    "%%time\n",
    "\n",
    "best_score = 0.0\n",
    "best_p = -1\n",
    "best_k = -1\n",
    "for k in range(1,11):\n",
    "    for p in range(1,6):\n",
    "        KNN_classifier = KNeighborsClassifier(n_neighbors=k,weights=\"distance\",p=p)#K=-1,p=-1\n",
    "        KNN_classifier.fit(X_train,y_train)\n",
    "        score = KNN_classifier.score(X_test,y_test)\n",
    "        if score > best_score:\n",
    "            best_k = k\n",
    "            best_score = score\n",
    "            best_p = p\n",
    "            \n",
    "print(\"best_k=\",best_k)\n",
    "print(\"best_p=\",best_p)\n",
    "print(\"best_score=\",best_score)"
   ]
  },
  {
   "cell_type": "markdown",
   "metadata": {},
   "source": [
    "## Grid Search 网格搜索{寻找最好的超参数}"
   ]
  },
  {
   "cell_type": "code",
   "execution_count": 22,
   "metadata": {},
   "outputs": [],
   "source": [
    "param_grid = [\n",
    "    {\n",
    "        'weights':['uniform'],\n",
    "        'n_neighbors':[i for i in range(1,11)]\n",
    "    },\n",
    "    {\n",
    "        'weights':['distance'],\n",
    "        'n_neighbors':[i for i in range(1,11)],\n",
    "        'p':[i for i in range(1,6)]\n",
    "    }\n",
    "]"
   ]
  },
  {
   "cell_type": "code",
   "execution_count": 23,
   "metadata": {},
   "outputs": [
    {
     "name": "stdout",
     "output_type": "stream",
     "text": [
      "Wall time: 3min 50s\n"
     ]
    }
   ],
   "source": [
    "%%time\n",
    "from sklearn.model_selection import GridSearchCV#网格搜索交叉验证\n",
    "\n",
    "knn = KNeighborsClassifier()\n",
    "grid_search = GridSearchCV(knn,param_grid)#寻找最佳超参数\n",
    "\n",
    "grid_search.fit(X_train,y_train)"
   ]
  },
  {
   "cell_type": "code",
   "execution_count": 24,
   "metadata": {},
   "outputs": [
    {
     "data": {
      "text/plain": [
       "KNeighborsClassifier(algorithm='auto', leaf_size=30, metric='minkowski',\n",
       "           metric_params=None, n_jobs=1, n_neighbors=5, p=3,\n",
       "           weights='distance')"
      ]
     },
     "execution_count": 24,
     "metadata": {},
     "output_type": "execute_result"
    }
   ],
   "source": [
    "grid_search.best_estimator_#根据用户传入的参数，程序自己计算的参数，定义的方法中应该有'_'"
   ]
  },
  {
   "cell_type": "code",
   "execution_count": 25,
   "metadata": {},
   "outputs": [
    {
     "data": {
      "text/plain": [
       "0.9832985386221295"
      ]
     },
     "execution_count": 25,
     "metadata": {},
     "output_type": "execute_result"
    }
   ],
   "source": [
    "grid_search.best_score_#最佳score，score的评定方法比我的accuracy更加复杂合理"
   ]
  },
  {
   "cell_type": "code",
   "execution_count": 26,
   "metadata": {},
   "outputs": [
    {
     "data": {
      "text/plain": [
       "{'n_neighbors': 5, 'p': 3, 'weights': 'distance'}"
      ]
     },
     "execution_count": 26,
     "metadata": {},
     "output_type": "execute_result"
    }
   ],
   "source": [
    "grid_search.best_params_#最佳参数"
   ]
  },
  {
   "cell_type": "code",
   "execution_count": 28,
   "metadata": {},
   "outputs": [
    {
     "data": {
      "text/plain": [
       "0.9888888888888889"
      ]
     },
     "execution_count": 28,
     "metadata": {},
     "output_type": "execute_result"
    }
   ],
   "source": [
    "knn_clf = grid_search.best_estimator_#最佳参数对应的knn\n",
    "knn_clf.predict(X_test)\n",
    "knn_clf.score(X_test,y_test)"
   ]
  },
  {
   "cell_type": "code",
   "execution_count": 29,
   "metadata": {},
   "outputs": [
    {
     "name": "stdout",
     "output_type": "stream",
     "text": [
      "Fitting 3 folds for each of 60 candidates, totalling 180 fits\n"
     ]
    },
    {
     "name": "stderr",
     "output_type": "stream",
     "text": [
      "[Parallel(n_jobs=-1)]: Done  33 tasks      | elapsed:    3.9s\n",
      "[Parallel(n_jobs=-1)]: Done 154 tasks      | elapsed:  1.2min\n"
     ]
    },
    {
     "name": "stdout",
     "output_type": "stream",
     "text": [
      "Wall time: 1min 30s\n"
     ]
    },
    {
     "name": "stderr",
     "output_type": "stream",
     "text": [
      "[Parallel(n_jobs=-1)]: Done 180 out of 180 | elapsed:  1.5min finished\n"
     ]
    }
   ],
   "source": [
    "%%time\n",
    "#n_jobs:在寻找超参数时，可以并行运算，n_jobs是使用cpu数量{线程数}，'n_jobs=-1'为最多核心数\n",
    "#verbose=2：在搜索是输出数值\n",
    "grid_search = GridSearchCV(knn,param_grid,n_jobs=-1,verbose=2)\n",
    "grid_search.fit(X_train,y_train)"
   ]
  }
 ],
 "metadata": {
  "kernelspec": {
   "display_name": "Python 3",
   "language": "python",
   "name": "python3"
  },
  "language_info": {
   "codemirror_mode": {
    "name": "ipython",
    "version": 3
   },
   "file_extension": ".py",
   "mimetype": "text/x-python",
   "name": "python",
   "nbconvert_exporter": "python",
   "pygments_lexer": "ipython3",
   "version": "3.6.4"
  }
 },
 "nbformat": 4,
 "nbformat_minor": 2
}
