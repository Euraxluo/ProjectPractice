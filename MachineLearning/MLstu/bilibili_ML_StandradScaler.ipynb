{
 "cells": [
  {
   "cell_type": "markdown",
   "metadata": {},
   "source": [
    "## 数据归一化 Feature Scaling\n",
    "#### 我的理解：数据集有很多不同的维度，在计算距离时，简单的使用距离而不做归一化，整个距离会被其中的很大的量所主导，不能反映不同量的重要性\n",
    "### 解决方法：将所有的数据映射到同一尺度\n",
    "    1.最值归一化(normalization):把所有的数据映射到0-1之间\n",
    "即：\n",
    "$X_{scale} =\\frac{X-X_{min}}{X_{max}-X_{min}} $\n",
    "    \n",
    "    适用于分布有明显边界的情况；受outlier影响较大\n",
    "```python\n",
    "from IPython.display import Latex\n",
    "Latex(r\"$X_{scale} = \\frac{X-X_{min}}{X_{max}-X_{min}}$\")\n",
    "```\n",
    "#### 建议使用均值方差归一化，对于有边界的数据也能很好的处理\n",
    "    2.均值方差归一化(standardization):把所有的数据归一化到均值为0方差为1的分布中\n",
    "即：\n",
    "$X_{scale} =\\frac{X-X_{mean}}{S} $\n",
    "    \n",
    "    适用于数据分布没有明显的边界；有可能存在极端数据值"
   ]
  },
  {
   "cell_type": "code",
   "execution_count": 1,
   "metadata": {
    "scrolled": true
   },
   "outputs": [
    {
     "data": {
      "text/latex": [
       "$X_{scale} = \\frac{X-X_{min}}{X_{max}-X_{min}}$"
      ],
      "text/plain": [
       "<IPython.core.display.Latex object>"
      ]
     },
     "execution_count": 1,
     "metadata": {},
     "output_type": "execute_result"
    }
   ],
   "source": [
    "#如何用python写数学公式（使用和markdown一样的语法）\n",
    "from IPython.display import Latex\n",
    "Latex(r\"$X_{scale} = \\frac{X-X_{min}}{X_{max}-X_{min}}$\")"
   ]
  },
  {
   "cell_type": "code",
   "execution_count": 2,
   "metadata": {},
   "outputs": [],
   "source": [
    "import numpy as np\n",
    "import matplotlib.pyplot as plt"
   ]
  },
  {
   "cell_type": "markdown",
   "metadata": {},
   "source": [
    "### 最值归一化 Normalization{sklearn.prerocessing.MinMaxScaler}"
   ]
  },
  {
   "cell_type": "code",
   "execution_count": 3,
   "metadata": {},
   "outputs": [
    {
     "data": {
      "text/plain": [
       "array([64,  2, 80, 68, 83, 55, 44, 35, 52, 76, 32, 41, 85, 99, 90, 70, 96,\n",
       "       96, 96, 91,  3,  9,  4, 18, 51, 28, 98, 70, 64, 21, 88, 32, 88, 32,\n",
       "       77, 93, 25, 22, 45, 26, 59, 62, 25,  3, 23, 18, 45, 34, 39, 20, 90,\n",
       "       93, 62, 86, 34, 84, 86, 69, 28, 87,  3, 29, 92, 55, 21, 97, 49, 29,\n",
       "       25, 12, 55, 30, 26,  0,  5,  2, 33, 81, 55, 79, 49, 41, 40, 62, 64,\n",
       "       88, 45, 61, 36, 77, 71, 10, 71, 15,  9, 63, 50, 37, 66, 85])"
      ]
     },
     "execution_count": 3,
     "metadata": {},
     "output_type": "execute_result"
    }
   ],
   "source": [
    "x = np.random.randint(0,100,size = 100)\n",
    "x"
   ]
  },
  {
   "cell_type": "code",
   "execution_count": 4,
   "metadata": {},
   "outputs": [
    {
     "data": {
      "text/plain": [
       "array([0.64646465, 0.02020202, 0.80808081, 0.68686869, 0.83838384,\n",
       "       0.55555556, 0.44444444, 0.35353535, 0.52525253, 0.76767677,\n",
       "       0.32323232, 0.41414141, 0.85858586, 1.        , 0.90909091,\n",
       "       0.70707071, 0.96969697, 0.96969697, 0.96969697, 0.91919192,\n",
       "       0.03030303, 0.09090909, 0.04040404, 0.18181818, 0.51515152,\n",
       "       0.28282828, 0.98989899, 0.70707071, 0.64646465, 0.21212121,\n",
       "       0.88888889, 0.32323232, 0.88888889, 0.32323232, 0.77777778,\n",
       "       0.93939394, 0.25252525, 0.22222222, 0.45454545, 0.26262626,\n",
       "       0.5959596 , 0.62626263, 0.25252525, 0.03030303, 0.23232323,\n",
       "       0.18181818, 0.45454545, 0.34343434, 0.39393939, 0.2020202 ,\n",
       "       0.90909091, 0.93939394, 0.62626263, 0.86868687, 0.34343434,\n",
       "       0.84848485, 0.86868687, 0.6969697 , 0.28282828, 0.87878788,\n",
       "       0.03030303, 0.29292929, 0.92929293, 0.55555556, 0.21212121,\n",
       "       0.97979798, 0.49494949, 0.29292929, 0.25252525, 0.12121212,\n",
       "       0.55555556, 0.3030303 , 0.26262626, 0.        , 0.05050505,\n",
       "       0.02020202, 0.33333333, 0.81818182, 0.55555556, 0.7979798 ,\n",
       "       0.49494949, 0.41414141, 0.4040404 , 0.62626263, 0.64646465,\n",
       "       0.88888889, 0.45454545, 0.61616162, 0.36363636, 0.77777778,\n",
       "       0.71717172, 0.1010101 , 0.71717172, 0.15151515, 0.09090909,\n",
       "       0.63636364, 0.50505051, 0.37373737, 0.66666667, 0.85858586])"
      ]
     },
     "execution_count": 4,
     "metadata": {},
     "output_type": "execute_result"
    }
   ],
   "source": [
    "#最值归一化：\n",
    "(x-np.min(x))/(np.max(x)-np.min(x))"
   ]
  },
  {
   "cell_type": "code",
   "execution_count": 5,
   "metadata": {},
   "outputs": [
    {
     "data": {
      "text/plain": [
       "array([[86., 22.],\n",
       "       [67.,  0.],\n",
       "       [99., 32.],\n",
       "       [99., 31.],\n",
       "       [12.,  8.],\n",
       "       [19., 75.],\n",
       "       [62., 17.],\n",
       "       [16., 19.],\n",
       "       [56., 13.],\n",
       "       [45., 88.]])"
      ]
     },
     "execution_count": 5,
     "metadata": {},
     "output_type": "execute_result"
    }
   ],
   "source": [
    "X = np.random .randint(0,100,(50,2))\n",
    "X = np.array(X,dtype=float)#由于矩阵只能存一个类型的数据，需要把X处理成float\n",
    "X[:10,:]"
   ]
  },
  {
   "cell_type": "code",
   "execution_count": 6,
   "metadata": {},
   "outputs": [
    {
     "data": {
      "text/plain": [
       "array([[0.86734694, 0.22222222],\n",
       "       [0.67346939, 0.        ],\n",
       "       [1.        , 0.32323232],\n",
       "       [1.        , 0.31313131],\n",
       "       [0.1122449 , 0.08080808],\n",
       "       [0.18367347, 0.75757576],\n",
       "       [0.62244898, 0.17171717],\n",
       "       [0.15306122, 0.19191919],\n",
       "       [0.56122449, 0.13131313],\n",
       "       [0.44897959, 0.88888889]])"
      ]
     },
     "execution_count": 6,
     "metadata": {},
     "output_type": "execute_result"
    }
   ],
   "source": [
    "X[:,0] = (X[:,0]-np.min(X[:,0]))/(np.max(X[:,0])-np.min(X[:,0]))\n",
    "X[:,1] = (X[:,1]-np.min(X[:,1]))/(np.max(X[:,1])-np.min(X[:,1]))\n",
    "X[:10,:]"
   ]
  },
  {
   "cell_type": "code",
   "execution_count": 7,
   "metadata": {},
   "outputs": [
    {
     "data": {
      "image/png": "[encoded data removed]",
      "text/plain": [
       "<matplotlib.figure.Figure at 0x1a25e625a90>"
      ]
     },
     "metadata": {},
     "output_type": "display_data"
    }
   ],
   "source": [
    "plt.scatter(X[:,0],X[:,1])\n",
    "plt.show()"
   ]
  },
  {
   "cell_type": "code",
   "execution_count": 8,
   "metadata": {},
   "outputs": [
    {
     "name": "stdout",
     "output_type": "stream",
     "text": [
      "0.4653061224489796 0.2771079897516007 0.503030303030303 0.28653416261285597\n"
     ]
    }
   ],
   "source": [
    "print(np.mean(X[:,0]),np.std(X[:,0]),np.mean(X[:,1]),np.std(X[:,1]))#查看每一列均值方差"
   ]
  },
  {
   "cell_type": "markdown",
   "metadata": {},
   "source": [
    "### 均值方差归一化 Standardization"
   ]
  },
  {
   "cell_type": "code",
   "execution_count": 9,
   "metadata": {},
   "outputs": [
    {
     "data": {
      "text/plain": [
       "array([[36., 97.],\n",
       "       [63., 48.],\n",
       "       [33., 29.],\n",
       "       [59., 33.],\n",
       "       [50., 55.],\n",
       "       [89., 84.],\n",
       "       [ 0., 62.],\n",
       "       [16., 39.],\n",
       "       [90., 85.],\n",
       "       [88., 14.]])"
      ]
     },
     "execution_count": 9,
     "metadata": {},
     "output_type": "execute_result"
    }
   ],
   "source": [
    "x2 = np.random.randint(0,100,(50,2))\n",
    "x2 = np.array(x2,dtype=float)\n",
    "x2[:10,:]"
   ]
  },
  {
   "cell_type": "code",
   "execution_count": 10,
   "metadata": {},
   "outputs": [
    {
     "data": {
      "text/plain": [
       "array([[-0.54091088,  1.71846821],\n",
       "       [ 0.39288667, -0.1281314 ],\n",
       "       [-0.64466616, -0.84415982],\n",
       "       [ 0.25454629, -0.693417  ],\n",
       "       [-0.05671955,  0.13566854],\n",
       "       [ 1.29209913,  1.22855403],\n",
       "       [-1.78597427,  0.39946849],\n",
       "       [-1.23261276, -0.46730276],\n",
       "       [ 1.32668422,  1.26623973],\n",
       "       [ 1.25751403, -1.40944542]])"
      ]
     },
     "execution_count": 10,
     "metadata": {},
     "output_type": "execute_result"
    }
   ],
   "source": [
    "x2[:,0] = (x2[:,0]-np.mean(x2[:,0]))/np.std(x2[:,0])\n",
    "x2[:,1] = (x2[:,1]-np.mean(x2[:,1]))/np.std(x2[:,1])\n",
    "x2[:10,:]"
   ]
  },
  {
   "cell_type": "code",
   "execution_count": 11,
   "metadata": {},
   "outputs": [
    {
     "data": {
      "image/png": "[encoded data removed]",
      "text/plain": [
       "<matplotlib.figure.Figure at 0x1a25e625be0>"
      ]
     },
     "metadata": {},
     "output_type": "display_data"
    }
   ],
   "source": [
    "plt.scatter(x2[:,0],x2[:,1])##可以看到，数据没有分布在0，1之间\n",
    "plt.show()"
   ]
  },
  {
   "cell_type": "code",
   "execution_count": 12,
   "metadata": {},
   "outputs": [
    {
     "name": "stdout",
     "output_type": "stream",
     "text": [
      "-2.2204460492503132e-17 0.9999999999999999 4.218847493575595e-17 1.0\n"
     ]
    }
   ],
   "source": [
    "print(np.mean(x2[:,0]),np.std(x2[:,0]),np.mean(x2[:,1]),np.std(x2[:,1]))#均值为0，方差为1"
   ]
  },
  {
   "cell_type": "markdown",
   "metadata": {},
   "source": [
    "### sklearn中的数据归一化\n",
    "   ##### 注：{应该保存训练数据得到的均值和方差}\n",
    "   假设对 `train数据集` 均值方差归一化后，得到`mean_train`和`std_train`.\n",
    "   自然而然会对`test数据集`进行归一化，这时，不能使用test中的mean和std，而应该:`(x_test-mean_train)/std_train`\n",
    "   ##### 原因：\n",
    "   测试数据模拟真实数据，\n",
    "     1. 真实数据可能无法得到数据的均值和方差\n",
    "     2. 对数据的归一化时算法的一部分\n",
    "   \n",
    "   \n",
    "   "
   ]
  },
  {
   "cell_type": "code",
   "execution_count": 4,
   "metadata": {},
   "outputs": [
    {
     "name": "stdout",
     "output_type": "stream",
     "text": [
      "int32\n"
     ]
    }
   ],
   "source": [
    "import numpy as np\n",
    "from sklearn import datasets\n",
    "\n",
    "iris = datasets.load_iris()\n",
    "X = iris.data\n",
    "y = iris.target\n",
    "print(y.dtype)\n",
    "#train_test_split\n",
    "from sklearn.model_selection import train_test_split\n",
    "\n",
    "X_train,X_test,y_train,y_test = train_test_split(X,y,test_size=0.2,random_state=666)"
   ]
  },
  {
   "cell_type": "markdown",
   "metadata": {},
   "source": [
    "### scikit-learn 中的StandardScaler"
   ]
  },
  {
   "cell_type": "code",
   "execution_count": 14,
   "metadata": {},
   "outputs": [
    {
     "data": {
      "text/plain": [
       "array([[-0.90616043,  0.94720873, -1.30982967, -1.28485856],\n",
       "       [-1.15301457, -0.18717298, -1.30982967, -1.28485856],\n",
       "       [-0.16559799, -0.64092567,  0.22169257,  0.17345038],\n",
       "       [ 0.45153738,  0.72033239,  0.95909217,  1.49918578],\n",
       "       [-0.90616043, -1.3215547 , -0.40226093, -0.0916967 ],\n",
       "       [ 1.43895396,  0.2665797 ,  0.56203085,  0.30602392],\n",
       "       [ 0.3281103 , -1.09467835,  1.07253826,  0.30602392],\n",
       "       [ 2.1795164 , -0.18717298,  1.63976872,  1.2340387 ],\n",
       "       [-0.78273335,  2.30846679, -1.25310662, -1.4174321 ],\n",
       "       [ 0.45153738, -2.00218372,  0.44858475,  0.43859746],\n",
       "       [ 1.80923518, -0.41404933,  1.46959958,  0.83631808],\n",
       "       [ 0.69839152,  0.2665797 ,  0.90236912,  1.49918578],\n",
       "       [ 0.20468323,  0.72033239,  0.44858475,  0.571171  ],\n",
       "       [-0.78273335, -0.86780201,  0.10824648,  0.30602392],\n",
       "       [-0.53587921,  1.40096142, -1.25310662, -1.28485856],\n",
       "       [-0.65930628,  1.40096142, -1.25310662, -1.28485856],\n",
       "       [-1.0295875 ,  0.94720873, -1.19638358, -0.7545644 ],\n",
       "       [-1.77014994, -0.41404933, -1.30982967, -1.28485856],\n",
       "       [-0.04217092, -0.86780201,  0.10824648,  0.04087684],\n",
       "       [-0.78273335,  0.72033239, -1.30982967, -1.28485856],\n",
       "       [-1.52329579,  0.72033239, -1.30982967, -1.15228502],\n",
       "       [ 0.82181859,  0.2665797 ,  0.78892303,  1.10146516],\n",
       "       [-0.16559799, -0.41404933,  0.27841562,  0.17345038],\n",
       "       [ 0.94524567, -0.18717298,  0.39186171,  0.30602392],\n",
       "       [ 0.20468323, -0.41404933,  0.44858475,  0.43859746],\n",
       "       [-1.39986872,  0.2665797 , -1.19638358, -1.28485856],\n",
       "       [-1.15301457,  0.03970336, -1.25310662, -1.4174321 ],\n",
       "       [ 1.06867274,  0.03970336,  1.07253826,  1.63175932],\n",
       "       [ 0.57496445, -0.86780201,  0.67547694,  0.83631808],\n",
       "       [ 0.3281103 , -0.64092567,  0.56203085,  0.04087684],\n",
       "       [ 0.45153738, -0.64092567,  0.61875389,  0.83631808],\n",
       "       [-0.16559799,  2.98909581, -1.25310662, -1.01971148],\n",
       "       [ 0.57496445, -1.3215547 ,  0.67547694,  0.43859746],\n",
       "       [ 0.69839152, -0.41404933,  0.33513866,  0.17345038],\n",
       "       [-0.90616043,  1.62783776, -1.02621444, -1.01971148],\n",
       "       [ 1.19209981, -0.64092567,  0.61875389,  0.30602392],\n",
       "       [-0.90616043,  0.94720873, -1.30982967, -1.15228502],\n",
       "       [-1.89357701, -0.18717298, -1.47999881, -1.4174321 ],\n",
       "       [ 0.08125616, -0.18717298,  0.78892303,  0.83631808],\n",
       "       [ 0.69839152, -0.64092567,  1.07253826,  1.2340387 ],\n",
       "       [-0.28902506, -0.64092567,  0.67547694,  1.10146516],\n",
       "       [-0.41245214, -1.54843104, -0.00519961, -0.22427024],\n",
       "       [ 1.31552689,  0.03970336,  0.67547694,  0.43859746],\n",
       "       [ 0.57496445,  0.72033239,  1.07253826,  1.63175932],\n",
       "       [ 0.82181859, -0.18717298,  1.18598435,  1.36661224],\n",
       "       [-0.16559799,  1.62783776, -1.13966053, -1.15228502],\n",
       "       [ 0.94524567, -0.41404933,  0.5053078 ,  0.17345038],\n",
       "       [ 1.06867274,  0.49345605,  1.12926131,  1.76433286],\n",
       "       [-1.27644165, -0.18717298, -1.30982967, -1.4174321 ],\n",
       "       [-1.0295875 ,  1.17408507, -1.30982967, -1.28485856],\n",
       "       [ 0.20468323, -0.18717298,  0.61875389,  0.83631808],\n",
       "       [-1.0295875 , -0.18717298, -1.19638358, -1.28485856],\n",
       "       [ 0.3281103 , -0.18717298,  0.67547694,  0.83631808],\n",
       "       [ 0.69839152,  0.03970336,  1.01581521,  0.83631808],\n",
       "       [-0.90616043,  1.40096142, -1.25310662, -1.01971148],\n",
       "       [-0.16559799, -0.18717298,  0.27841562,  0.04087684],\n",
       "       [-1.0295875 ,  0.94720873, -1.36655271, -1.15228502],\n",
       "       [-0.90616043,  1.62783776, -1.25310662, -1.15228502],\n",
       "       [-1.52329579,  0.2665797 , -1.30982967, -1.28485856],\n",
       "       [-0.53587921, -0.18717298,  0.44858475,  0.43859746],\n",
       "       [ 0.82181859, -0.64092567,  0.5053078 ,  0.43859746],\n",
       "       [ 0.3281103 , -0.64092567,  0.16496953,  0.17345038],\n",
       "       [-1.27644165,  0.72033239, -1.19638358, -1.28485856],\n",
       "       [-0.90616043,  0.49345605, -1.13966053, -0.88713794],\n",
       "       [-0.04217092, -0.86780201,  0.78892303,  0.96889162],\n",
       "       [-0.28902506, -0.18717298,  0.22169257,  0.17345038],\n",
       "       [ 0.57496445, -0.64092567,  0.78892303,  0.43859746],\n",
       "       [ 1.06867274,  0.49345605,  1.12926131,  1.2340387 ],\n",
       "       [ 1.68580811, -0.18717298,  1.18598435,  0.571171  ],\n",
       "       [ 1.06867274, -0.18717298,  0.84564608,  1.49918578],\n",
       "       [-1.15301457,  0.03970336, -1.25310662, -1.4174321 ],\n",
       "       [-1.15301457, -1.3215547 ,  0.44858475,  0.70374454],\n",
       "       [-0.16559799, -1.3215547 ,  0.73219998,  1.10146516],\n",
       "       [-1.15301457, -1.54843104, -0.2320918 , -0.22427024],\n",
       "       [-0.41245214, -1.54843104,  0.05152343, -0.0916967 ],\n",
       "       [ 1.06867274, -1.3215547 ,  1.18598435,  0.83631808],\n",
       "       [ 0.82181859, -0.18717298,  1.01581521,  0.83631808],\n",
       "       [-0.16559799, -1.09467835, -0.1186457 , -0.22427024],\n",
       "       [ 0.20468323, -2.00218372,  0.73219998,  0.43859746],\n",
       "       [ 1.06867274,  0.03970336,  0.56203085,  0.43859746],\n",
       "       [-1.15301457,  0.03970336, -1.25310662, -1.4174321 ],\n",
       "       [ 0.57496445, -1.3215547 ,  0.73219998,  0.96889162],\n",
       "       [-1.39986872,  0.2665797 , -1.36655271, -1.28485856],\n",
       "       [ 0.20468323, -0.86780201,  0.78892303,  0.571171  ],\n",
       "       [-0.04217092, -1.09467835,  0.16496953,  0.04087684],\n",
       "       [ 1.31552689,  0.2665797 ,  1.12926131,  1.49918578],\n",
       "       [-1.77014994, -0.18717298, -1.36655271, -1.28485856],\n",
       "       [ 1.56238103, -0.18717298,  1.2427074 ,  1.2340387 ],\n",
       "       [ 1.19209981,  0.2665797 ,  1.2427074 ,  1.49918578],\n",
       "       [-0.78273335,  0.94720873, -1.25310662, -1.28485856],\n",
       "       [ 2.54979762,  1.62783776,  1.52632263,  1.10146516],\n",
       "       [ 0.69839152, -0.64092567,  1.07253826,  1.36661224],\n",
       "       [-0.28902506, -0.41404933, -0.06192266,  0.17345038],\n",
       "       [-0.41245214,  2.53534313, -1.30982967, -1.28485856],\n",
       "       [-1.27644165, -0.18717298, -1.30982967, -1.15228502],\n",
       "       [ 0.57496445, -0.41404933,  1.07253826,  0.83631808],\n",
       "       [-1.77014994,  0.2665797 , -1.36655271, -1.28485856],\n",
       "       [-0.53587921,  1.8547141 , -1.13966053, -1.01971148],\n",
       "       [-1.0295875 ,  0.72033239, -1.19638358, -1.01971148],\n",
       "       [ 1.06867274, -0.18717298,  0.73219998,  0.70374454],\n",
       "       [-0.53587921,  1.8547141 , -1.36655271, -1.01971148],\n",
       "       [ 2.30294347, -0.64092567,  1.69649176,  1.10146516],\n",
       "       [-0.28902506, -0.86780201,  0.27841562,  0.17345038],\n",
       "       [ 1.19209981, -0.18717298,  1.01581521,  1.2340387 ],\n",
       "       [-0.41245214,  0.94720873, -1.36655271, -1.28485856],\n",
       "       [-1.27644165,  0.72033239, -1.02621444, -1.28485856],\n",
       "       [-0.53587921,  0.72033239, -1.13966053, -1.28485856],\n",
       "       [ 2.30294347,  1.62783776,  1.69649176,  1.36661224],\n",
       "       [ 1.31552689,  0.03970336,  0.95909217,  1.2340387 ],\n",
       "       [-0.28902506, -1.3215547 ,  0.10824648, -0.0916967 ],\n",
       "       [-0.90616043,  0.72033239, -1.25310662, -1.28485856],\n",
       "       [-0.90616043,  1.62783776, -1.19638358, -1.28485856],\n",
       "       [ 0.3281103 , -0.41404933,  0.56203085,  0.30602392],\n",
       "       [-0.04217092,  2.08159044, -1.42327576, -1.28485856],\n",
       "       [-1.0295875 , -2.45593641, -0.1186457 , -0.22427024],\n",
       "       [ 0.69839152,  0.2665797 ,  0.44858475,  0.43859746],\n",
       "       [ 0.3281103 , -0.18717298,  0.5053078 ,  0.30602392],\n",
       "       [ 0.08125616,  0.2665797 ,  0.61875389,  0.83631808],\n",
       "       [ 0.20468323, -2.00218372,  0.16496953, -0.22427024],\n",
       "       [ 1.93266225, -0.64092567,  1.35615349,  0.96889162]])"
      ]
     },
     "execution_count": 14,
     "metadata": {},
     "output_type": "execute_result"
    }
   ],
   "source": [
    "from sklearn.preprocessing import StandardScaler #导入数据预处理\n",
    "\n",
    "standardScaler = StandardScaler()\n",
    "standardScaler.fit(X_train)\n",
    "\n",
    "standardScaler.scale_#描述数据分布范围。标准差\n",
    "standardScaler.mean_#均值\n",
    "\n",
    "#归一化的结果：\n",
    "standardScaler.transform(X_train)"
   ]
  },
  {
   "cell_type": "code",
   "execution_count": 15,
   "metadata": {},
   "outputs": [
    {
     "data": {
      "text/plain": [
       "(array([[-0.90616043,  0.94720873, -1.30982967, -1.28485856],\n",
       "        [-1.15301457, -0.18717298, -1.30982967, -1.28485856],\n",
       "        [-0.16559799, -0.64092567,  0.22169257,  0.17345038],\n",
       "        [ 0.45153738,  0.72033239,  0.95909217,  1.49918578],\n",
       "        [-0.90616043, -1.3215547 , -0.40226093, -0.0916967 ],\n",
       "        [ 1.43895396,  0.2665797 ,  0.56203085,  0.30602392],\n",
       "        [ 0.3281103 , -1.09467835,  1.07253826,  0.30602392],\n",
       "        [ 2.1795164 , -0.18717298,  1.63976872,  1.2340387 ],\n",
       "        [-0.78273335,  2.30846679, -1.25310662, -1.4174321 ],\n",
       "        [ 0.45153738, -2.00218372,  0.44858475,  0.43859746],\n",
       "        [ 1.80923518, -0.41404933,  1.46959958,  0.83631808],\n",
       "        [ 0.69839152,  0.2665797 ,  0.90236912,  1.49918578],\n",
       "        [ 0.20468323,  0.72033239,  0.44858475,  0.571171  ],\n",
       "        [-0.78273335, -0.86780201,  0.10824648,  0.30602392],\n",
       "        [-0.53587921,  1.40096142, -1.25310662, -1.28485856],\n",
       "        [-0.65930628,  1.40096142, -1.25310662, -1.28485856],\n",
       "        [-1.0295875 ,  0.94720873, -1.19638358, -0.7545644 ],\n",
       "        [-1.77014994, -0.41404933, -1.30982967, -1.28485856],\n",
       "        [-0.04217092, -0.86780201,  0.10824648,  0.04087684],\n",
       "        [-0.78273335,  0.72033239, -1.30982967, -1.28485856],\n",
       "        [-1.52329579,  0.72033239, -1.30982967, -1.15228502],\n",
       "        [ 0.82181859,  0.2665797 ,  0.78892303,  1.10146516],\n",
       "        [-0.16559799, -0.41404933,  0.27841562,  0.17345038],\n",
       "        [ 0.94524567, -0.18717298,  0.39186171,  0.30602392],\n",
       "        [ 0.20468323, -0.41404933,  0.44858475,  0.43859746],\n",
       "        [-1.39986872,  0.2665797 , -1.19638358, -1.28485856],\n",
       "        [-1.15301457,  0.03970336, -1.25310662, -1.4174321 ],\n",
       "        [ 1.06867274,  0.03970336,  1.07253826,  1.63175932],\n",
       "        [ 0.57496445, -0.86780201,  0.67547694,  0.83631808],\n",
       "        [ 0.3281103 , -0.64092567,  0.56203085,  0.04087684],\n",
       "        [ 0.45153738, -0.64092567,  0.61875389,  0.83631808],\n",
       "        [-0.16559799,  2.98909581, -1.25310662, -1.01971148],\n",
       "        [ 0.57496445, -1.3215547 ,  0.67547694,  0.43859746],\n",
       "        [ 0.69839152, -0.41404933,  0.33513866,  0.17345038],\n",
       "        [-0.90616043,  1.62783776, -1.02621444, -1.01971148],\n",
       "        [ 1.19209981, -0.64092567,  0.61875389,  0.30602392],\n",
       "        [-0.90616043,  0.94720873, -1.30982967, -1.15228502],\n",
       "        [-1.89357701, -0.18717298, -1.47999881, -1.4174321 ],\n",
       "        [ 0.08125616, -0.18717298,  0.78892303,  0.83631808],\n",
       "        [ 0.69839152, -0.64092567,  1.07253826,  1.2340387 ],\n",
       "        [-0.28902506, -0.64092567,  0.67547694,  1.10146516],\n",
       "        [-0.41245214, -1.54843104, -0.00519961, -0.22427024],\n",
       "        [ 1.31552689,  0.03970336,  0.67547694,  0.43859746],\n",
       "        [ 0.57496445,  0.72033239,  1.07253826,  1.63175932],\n",
       "        [ 0.82181859, -0.18717298,  1.18598435,  1.36661224],\n",
       "        [-0.16559799,  1.62783776, -1.13966053, -1.15228502],\n",
       "        [ 0.94524567, -0.41404933,  0.5053078 ,  0.17345038],\n",
       "        [ 1.06867274,  0.49345605,  1.12926131,  1.76433286],\n",
       "        [-1.27644165, -0.18717298, -1.30982967, -1.4174321 ],\n",
       "        [-1.0295875 ,  1.17408507, -1.30982967, -1.28485856],\n",
       "        [ 0.20468323, -0.18717298,  0.61875389,  0.83631808],\n",
       "        [-1.0295875 , -0.18717298, -1.19638358, -1.28485856],\n",
       "        [ 0.3281103 , -0.18717298,  0.67547694,  0.83631808],\n",
       "        [ 0.69839152,  0.03970336,  1.01581521,  0.83631808],\n",
       "        [-0.90616043,  1.40096142, -1.25310662, -1.01971148],\n",
       "        [-0.16559799, -0.18717298,  0.27841562,  0.04087684],\n",
       "        [-1.0295875 ,  0.94720873, -1.36655271, -1.15228502],\n",
       "        [-0.90616043,  1.62783776, -1.25310662, -1.15228502],\n",
       "        [-1.52329579,  0.2665797 , -1.30982967, -1.28485856],\n",
       "        [-0.53587921, -0.18717298,  0.44858475,  0.43859746],\n",
       "        [ 0.82181859, -0.64092567,  0.5053078 ,  0.43859746],\n",
       "        [ 0.3281103 , -0.64092567,  0.16496953,  0.17345038],\n",
       "        [-1.27644165,  0.72033239, -1.19638358, -1.28485856],\n",
       "        [-0.90616043,  0.49345605, -1.13966053, -0.88713794],\n",
       "        [-0.04217092, -0.86780201,  0.78892303,  0.96889162],\n",
       "        [-0.28902506, -0.18717298,  0.22169257,  0.17345038],\n",
       "        [ 0.57496445, -0.64092567,  0.78892303,  0.43859746],\n",
       "        [ 1.06867274,  0.49345605,  1.12926131,  1.2340387 ],\n",
       "        [ 1.68580811, -0.18717298,  1.18598435,  0.571171  ],\n",
       "        [ 1.06867274, -0.18717298,  0.84564608,  1.49918578],\n",
       "        [-1.15301457,  0.03970336, -1.25310662, -1.4174321 ],\n",
       "        [-1.15301457, -1.3215547 ,  0.44858475,  0.70374454],\n",
       "        [-0.16559799, -1.3215547 ,  0.73219998,  1.10146516],\n",
       "        [-1.15301457, -1.54843104, -0.2320918 , -0.22427024],\n",
       "        [-0.41245214, -1.54843104,  0.05152343, -0.0916967 ],\n",
       "        [ 1.06867274, -1.3215547 ,  1.18598435,  0.83631808],\n",
       "        [ 0.82181859, -0.18717298,  1.01581521,  0.83631808],\n",
       "        [-0.16559799, -1.09467835, -0.1186457 , -0.22427024],\n",
       "        [ 0.20468323, -2.00218372,  0.73219998,  0.43859746],\n",
       "        [ 1.06867274,  0.03970336,  0.56203085,  0.43859746],\n",
       "        [-1.15301457,  0.03970336, -1.25310662, -1.4174321 ],\n",
       "        [ 0.57496445, -1.3215547 ,  0.73219998,  0.96889162],\n",
       "        [-1.39986872,  0.2665797 , -1.36655271, -1.28485856],\n",
       "        [ 0.20468323, -0.86780201,  0.78892303,  0.571171  ],\n",
       "        [-0.04217092, -1.09467835,  0.16496953,  0.04087684],\n",
       "        [ 1.31552689,  0.2665797 ,  1.12926131,  1.49918578],\n",
       "        [-1.77014994, -0.18717298, -1.36655271, -1.28485856],\n",
       "        [ 1.56238103, -0.18717298,  1.2427074 ,  1.2340387 ],\n",
       "        [ 1.19209981,  0.2665797 ,  1.2427074 ,  1.49918578],\n",
       "        [-0.78273335,  0.94720873, -1.25310662, -1.28485856],\n",
       "        [ 2.54979762,  1.62783776,  1.52632263,  1.10146516],\n",
       "        [ 0.69839152, -0.64092567,  1.07253826,  1.36661224],\n",
       "        [-0.28902506, -0.41404933, -0.06192266,  0.17345038],\n",
       "        [-0.41245214,  2.53534313, -1.30982967, -1.28485856],\n",
       "        [-1.27644165, -0.18717298, -1.30982967, -1.15228502],\n",
       "        [ 0.57496445, -0.41404933,  1.07253826,  0.83631808],\n",
       "        [-1.77014994,  0.2665797 , -1.36655271, -1.28485856],\n",
       "        [-0.53587921,  1.8547141 , -1.13966053, -1.01971148],\n",
       "        [-1.0295875 ,  0.72033239, -1.19638358, -1.01971148],\n",
       "        [ 1.06867274, -0.18717298,  0.73219998,  0.70374454],\n",
       "        [-0.53587921,  1.8547141 , -1.36655271, -1.01971148],\n",
       "        [ 2.30294347, -0.64092567,  1.69649176,  1.10146516],\n",
       "        [-0.28902506, -0.86780201,  0.27841562,  0.17345038],\n",
       "        [ 1.19209981, -0.18717298,  1.01581521,  1.2340387 ],\n",
       "        [-0.41245214,  0.94720873, -1.36655271, -1.28485856],\n",
       "        [-1.27644165,  0.72033239, -1.02621444, -1.28485856],\n",
       "        [-0.53587921,  0.72033239, -1.13966053, -1.28485856],\n",
       "        [ 2.30294347,  1.62783776,  1.69649176,  1.36661224],\n",
       "        [ 1.31552689,  0.03970336,  0.95909217,  1.2340387 ],\n",
       "        [-0.28902506, -1.3215547 ,  0.10824648, -0.0916967 ],\n",
       "        [-0.90616043,  0.72033239, -1.25310662, -1.28485856],\n",
       "        [-0.90616043,  1.62783776, -1.19638358, -1.28485856],\n",
       "        [ 0.3281103 , -0.41404933,  0.56203085,  0.30602392],\n",
       "        [-0.04217092,  2.08159044, -1.42327576, -1.28485856],\n",
       "        [-1.0295875 , -2.45593641, -0.1186457 , -0.22427024],\n",
       "        [ 0.69839152,  0.2665797 ,  0.44858475,  0.43859746],\n",
       "        [ 0.3281103 , -0.18717298,  0.5053078 ,  0.30602392],\n",
       "        [ 0.08125616,  0.2665797 ,  0.61875389,  0.83631808],\n",
       "        [ 0.20468323, -2.00218372,  0.16496953, -0.22427024],\n",
       "        [ 1.93266225, -0.64092567,  1.35615349,  0.96889162]]),\n",
       " array([[-0.28902506, -0.18717298,  0.44858475,  0.43859746],\n",
       "        [-0.04217092, -0.64092567,  0.78892303,  1.63175932],\n",
       "        [-1.0295875 , -1.77530738, -0.2320918 , -0.22427024],\n",
       "        [-0.04217092, -0.86780201,  0.78892303,  0.96889162],\n",
       "        [-1.52329579,  0.03970336, -1.25310662, -1.28485856],\n",
       "        [-0.41245214, -1.3215547 ,  0.16496953,  0.17345038],\n",
       "        [-0.16559799, -0.64092567,  0.44858475,  0.17345038],\n",
       "        [ 0.82181859, -0.18717298,  0.84564608,  1.10146516],\n",
       "        [ 0.57496445, -1.77530738,  0.39186171,  0.17345038],\n",
       "        [-0.41245214, -1.09467835,  0.39186171,  0.04087684],\n",
       "        [ 1.06867274,  0.03970336,  0.39186171,  0.30602392],\n",
       "        [-1.64672287, -1.77530738, -1.36655271, -1.15228502],\n",
       "        [-1.27644165,  0.03970336, -1.19638358, -1.28485856],\n",
       "        [-0.53587921,  0.72033239, -1.25310662, -1.01971148],\n",
       "        [ 1.68580811,  1.17408507,  1.35615349,  1.76433286],\n",
       "        [-0.04217092, -0.86780201,  0.22169257, -0.22427024],\n",
       "        [-1.52329579,  1.17408507, -1.53672185, -1.28485856],\n",
       "        [ 1.68580811,  0.2665797 ,  1.29943044,  0.83631808],\n",
       "        [ 1.31552689,  0.03970336,  0.78892303,  1.49918578],\n",
       "        [ 0.69839152, -0.86780201,  0.90236912,  0.96889162],\n",
       "        [ 0.57496445,  0.49345605,  0.56203085,  0.571171  ],\n",
       "        [-1.0295875 ,  0.72033239, -1.25310662, -1.28485856],\n",
       "        [ 2.30294347, -1.09467835,  1.80993786,  1.49918578],\n",
       "        [-1.0295875 ,  0.49345605, -1.30982967, -1.28485856],\n",
       "        [ 0.45153738, -0.41404933,  0.33513866,  0.17345038],\n",
       "        [ 0.08125616, -0.18717298,  0.27841562,  0.43859746],\n",
       "        [-1.0295875 ,  0.2665797 , -1.42327576, -1.28485856],\n",
       "        [-0.41245214, -1.77530738,  0.16496953,  0.17345038],\n",
       "        [ 0.57496445,  0.49345605,  1.29943044,  1.76433286],\n",
       "        [ 2.30294347, -0.18717298,  1.35615349,  1.49918578]]))"
      ]
     },
     "execution_count": 15,
     "metadata": {},
     "output_type": "execute_result"
    }
   ],
   "source": [
    "#X_train没有改变,传给X_train\n",
    "X_train = standardScaler.transform(X_train)\n",
    "X_test_standard = standardScaler.transform(X_test)\n",
    "X_train,X_test_standard"
   ]
  },
  {
   "cell_type": "code",
   "execution_count": 16,
   "metadata": {},
   "outputs": [
    {
     "data": {
      "text/plain": [
       "1.0"
      ]
     },
     "execution_count": 16,
     "metadata": {},
     "output_type": "execute_result"
    }
   ],
   "source": [
    "from sklearn.neighbors import KNeighborsClassifier\n",
    "knn = KNeighborsClassifier(n_neighbors=3)\n",
    "knn.fit(X_train,y_train)#使用归一化的数据集训练模型\n",
    "knn.score(X_test_standard,y_test)#同时必须让测试数据集也归一化"
   ]
  },
  {
   "cell_type": "markdown",
   "metadata": {},
   "source": [
    "##    封装自己的StandardScaler"
   ]
  },
  {
   "cell_type": "markdown",
   "metadata": {},
   "source": [
    "```python\n",
    "import numpy as np\n",
    "class StandardScaler:\n",
    "\n",
    "    def __init__(self):\n",
    "        self.mean_ = None\n",
    "        self.scale_ = None\n",
    "\n",
    "    def fit(self,X):\n",
    "        \"\"\" 根据训练数据集获得数据的均值和方差\"\"\"\n",
    "        assert X.ndim == 2,\"The dimension of X must be 2\"\n",
    "\n",
    "        self.mean_ = np.array([np.mean(X[:,i]) for i in range(X.shape[1])])\n",
    "        self.scale_ = np.array([np.std(X[:,i]) for i in range(X.shape[1])])\n",
    "\n",
    "        return self\n",
    "\n",
    "    def transform(self,X):\n",
    "        \"\"\"将X根据这个StandardScaler进行均值方差归一化处理\"\"\"\n",
    "        assert X.ndim == 2,\"The dimension of X must be 2\"\n",
    "        assert self.mean_ is not None and self.scale_ is not None,\"must fit before transform\"\n",
    "        assert X.shape[1] == len(self.mean_),\"the feature number of X must be equal to mean_ and std_\"\n",
    "\n",
    "        returnX = np.empty(shape=X.shape,dtype=float)#空矩阵存储返回的归一化数据\n",
    "        for column in range(X.shape[1]):\n",
    "            #分列计算，每一列分别取对应列的均值方差\n",
    "            returnX[:,column] = (X[:,column] - self.mean_[column]) / self.scale_[column]\n",
    "        return returnX\n",
    "\n",
    "```"
   ]
  },
  {
   "cell_type": "markdown",
   "metadata": {},
   "source": [
    "### 用自己封装的standardScaler\n",
    "    注：由于上文已经运行过了sklearn.preprocessing.StandardScaler 以下输出是错误的"
   ]
  },
  {
   "cell_type": "code",
   "execution_count": 17,
   "metadata": {},
   "outputs": [
    {
     "name": "stdout",
     "output_type": "stream",
     "text": [
      "[1. 1. 1. 1.]\n",
      "[1.30266168e-15 3.98940140e-15 7.40148683e-17 5.55111512e-16]\n"
     ]
    }
   ],
   "source": [
    "from ML.StandardScaler import StandardScaler #导入数据预处理\n",
    "\n",
    "standardScaler = StandardScaler()\n",
    "standardScaler.fit(X_train)\n",
    "\n",
    "print(standardScaler.scale_)#描述数据分布范围。标准差\n",
    "print(standardScaler.mean_)#均值"
   ]
  },
  {
   "cell_type": "code",
   "execution_count": 18,
   "metadata": {
    "scrolled": true
   },
   "outputs": [
    {
     "data": {
      "text/plain": [
       "0.3333333333333333"
      ]
     },
     "execution_count": 18,
     "metadata": {},
     "output_type": "execute_result"
    }
   ],
   "source": [
    "X_train = standardScaler.transform(X_train)\n",
    "X_test_standard = standardScaler.transform(X_test)\n",
    "\n",
    "from sklearn.neighbors import KNeighborsClassifier\n",
    "knn = KNeighborsClassifier(n_neighbors=3)\n",
    "knn.fit(X_train,y_train)\n",
    "knn.score(X_test_standard,y_test)"
   ]
  }
 ],
 "metadata": {
  "kernelspec": {
   "display_name": "Python 3",
   "language": "python",
   "name": "python3"
  },
  "language_info": {
   "codemirror_mode": {
    "name": "ipython",
    "version": 3
   },
   "file_extension": ".py",
   "mimetype": "text/x-python",
   "name": "python",
   "nbconvert_exporter": "python",
   "pygments_lexer": "ipython3",
   "version": "3.6.4"
  }
 },
 "nbformat": 4,
 "nbformat_minor": 2
}
