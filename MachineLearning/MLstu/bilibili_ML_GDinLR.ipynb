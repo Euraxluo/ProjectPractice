{
 "cells": [
  {
   "cell_type": "markdown",
   "metadata": {},
   "source": [
    "## 梯度下降"
   ]
  },
  {
   "cell_type": "code",
   "execution_count": 1,
   "metadata": {},
   "outputs": [
    {
     "data": {
      "text/plain": [
       "<matplotlib.figure.Figure at 0x226b1fbb940>"
      ]
     },
     "metadata": {},
     "output_type": "display_data"
    }
   ],
   "source": [
    "import numpy as np\n",
    "import matplotlib.pyplot as plt\n",
    "plot_x = np.linspace(-1,6,141)\n",
    "plot_y = (plot_x-2.5)**2-1\n",
    "plt.plot(plot_x,plot_y)\n",
    "plt.show()"
   ]
  },
  {
   "cell_type": "code",
   "execution_count": 2,
   "metadata": {},
   "outputs": [],
   "source": [
    "def dJ(theta):#求导\n",
    "    return 2*(theta-2.5)\n",
    "\n",
    "def J(theta):#损失函数\n",
    "    return (theta-2.5)**2-1"
   ]
  },
  {
   "cell_type": "code",
   "execution_count": 3,
   "metadata": {},
   "outputs": [],
   "source": [
    "def gradient_descent(initial_theta,eta,n_iters = 1e4,epsilon = 1e-8):\n",
    "    theta = initial_theta\n",
    "    theta_history.append(initial_theta)\n",
    "    i_iter = 0\n",
    "    while i_iter < n_iters:\n",
    "        gradient = dJ(theta)\n",
    "        old_theta = theta\n",
    "        theta = theta - eta*gradient\n",
    "        theta_history.append(theta)\n",
    "        if(abs(J(theta)-J(old_theta))< epsilon):\n",
    "            break\n",
    "        i_iter += 1\n",
    "        \n",
    "def plot_theta_history():\n",
    "    plt.plot(plot_x,J(plot_x))\n",
    "    plt.plot(np.array(theta_history),J(np.array(theta_history)),color='r',marker='+')\n",
    "    plt.show()"
   ]
  },
  {
   "cell_type": "code",
   "execution_count": 4,
   "metadata": {},
   "outputs": [
    {
     "data": {
      "image/png": "[encoded data removed]",
      "text/plain": [
       "<matplotlib.figure.Figure at 0x226b4aa4d68>"
      ]
     },
     "metadata": {},
     "output_type": "display_data"
    },
    {
     "data": {
      "text/plain": [
       "46"
      ]
     },
     "execution_count": 4,
     "metadata": {},
     "output_type": "execute_result"
    }
   ],
   "source": [
    "theta_history = []\n",
    "gradient_descent(0,0.1)\n",
    "plot_theta_history()\n",
    "len(theta_history)"
   ]
  },
  {
   "cell_type": "markdown",
   "metadata": {},
   "source": [
    "## 在线性回归中使用梯度下降法"
   ]
  },
  {
   "cell_type": "code",
   "execution_count": 5,
   "metadata": {},
   "outputs": [
    {
     "data": {
      "image/png": "[encoded data removed]",
      "text/plain": [
       "<matplotlib.figure.Figure at 0x226b4ad4f60>"
      ]
     },
     "metadata": {},
     "output_type": "display_data"
    }
   ],
   "source": [
    "import numpy as np\n",
    "import matplotlib.pyplot as plt\n",
    "np.random.seed(666)\n",
    "X = 2*np.random.random(size=100)\n",
    "y = X*3. + 4. + np.random.normal(size=100)#均值为0，方差为1的正态分布随机数\n",
    "X = X.reshape(-1,1)\n",
    "plt.scatter(X,y)\n",
    "plt.show()"
   ]
  },
  {
   "cell_type": "markdown",
   "metadata": {},
   "source": [
    "## 批量梯度下降法"
   ]
  },
  {
   "cell_type": "code",
   "execution_count": 6,
   "metadata": {},
   "outputs": [],
   "source": [
    "def dJ(theta,X_b,y):#求导\n",
    "    res = np.empty(len(theta))#开辟一个空间存MSE(y,hat(y))\n",
    "    res[0] = np.sum(X_b.dot(theta)-y)#对第0项单独处理\n",
    "    for i in range(1,len(theta)):#其他的n项\n",
    "        res[i] = (X_b.dot(theta)-y).dot(X_b[:,i])\n",
    "    return res * 2/len(X_b) # *2/m \n",
    "\n",
    "def J(theta,X_b,y):#损失函数\n",
    "    try:\n",
    "        return np.sum((y-X_b.dot(theta))**2) / len(X_b)\n",
    "    except:\n",
    "        return float('inf')\n",
    "\n",
    "#梯度下降算法\n",
    "def gradient_descent(X_b,y,initial_theta,eta,n_iters = 1e4,epsilon = 1e-8):\n",
    "    theta = initial_theta\n",
    "    i_iter = 0\n",
    "    \n",
    "    while i_iter < n_iters:#循环终止条件，循环次数\n",
    "        gradient = dJ(theta,X_b,y)\n",
    "        old_theta = theta\n",
    "        theta = theta - eta*gradient\n",
    "        #循环终止条件，学习率过小\n",
    "        if(abs(J(theta,X_b,y)-J(old_theta,X_b,y))< epsilon):\n",
    "            break\n",
    "        i_iter += 1\n",
    "    \n",
    "    return theta"
   ]
  },
  {
   "cell_type": "code",
   "execution_count": 7,
   "metadata": {},
   "outputs": [
    {
     "data": {
      "text/plain": [
       "array([4.02145786, 3.00706277])"
      ]
     },
     "execution_count": 7,
     "metadata": {},
     "output_type": "execute_result"
    }
   ],
   "source": [
    "X_b = np.hstack([np.ones((len(X),1)),X.reshape(-1,1)])#对x加一列,y值为原始的y值\n",
    "initial_theta = np.zeros(X_b.shape[1])#theta初始值为0的向量，列数为特征数+1\n",
    "eta = 0.01\n",
    "theta = gradient_descent(X_b,y,initial_theta,eta)\n",
    "theta"
   ]
  },
  {
   "cell_type": "markdown",
   "metadata": {},
   "source": [
    "### 使用我们自己封装的梯度下降法fit回归模型\n",
    "```python\n",
    "def fit_gd(self,X_train,y_train,eta=0.01,n_iter=1e4):\n",
    "        \"\"\"利用X_train,y_train ,设置步长eta，最大循环次数n_iters使用梯度下降 fit \"\"\"\n",
    "    \n",
    "        assert X_train.shape[0] == y_train.shape[0],\\\n",
    "            \"the size of X_train must be equal to the size of y_train\"\n",
    "\n",
    "        def dJ(theta, X_b, y):  # 求导{计算梯度}\n",
    "            #res = np.empty(len(theta))  # 开辟一个空间存MSE(y,hat(y))\n",
    "            #res[0] = np.sum(X_b.dot(theta) - y)  # 对第0项单独处理\n",
    "            #for i in range(1, len(theta)):  # 其他的n项\n",
    "            #    res[i] = (X_b.dot(theta) - y).dot(X_b[:, i])\n",
    "            #return res * 2 / len(X_b)  # *2/m\n",
    "            return X_b.T.dot(X_b.dot(theta)-y) * 2./len(X_b)\n",
    "\n",
    "        def J(theta, X_b, y):  # 计算损失函数\n",
    "            try:\n",
    "                return np.sum((y - X_b.dot(theta)) ** 2) / len(y)\n",
    "            except:\n",
    "                return float('inf')\n",
    "\n",
    "        # 梯度下降算法\n",
    "        def gradient_descent(X_b, y, initial_theta, eta, n_iters=1e4, epsilon=1e-8):\n",
    "            theta = initial_theta\n",
    "            cur_iter = 0\n",
    "\n",
    "            while cur_iter < n_iters:\n",
    "                gradient = dJ(theta, X_b, y)\n",
    "                old_theta = theta\n",
    "                theta = theta - eta * gradient\n",
    "\n",
    "                if (abs(J(theta, X_b, y) - J(old_theta, X_b, y)) < epsilon):\n",
    "                    break\n",
    "                cur_iter += 1\n",
    "\n",
    "            return theta\n",
    "        #对X_train加一列,变成X_b，y值为原始的y值\n",
    "        X_b = np.hstack([np.ones((len(X_train), 1)), X_train]) \n",
    "        # initial_theta初始值为0的向量，列数为特征数+1\n",
    "        initial_theta = np.zeros(X_b.shape[1])\n",
    "        #使用梯度下降法对theta进行计算\n",
    "        self._theta = gradient_descent(X_b, y_train, initial_theta, eta)\n",
    "        self.interception_ = self._theta[0]\n",
    "        self.coef_ = self._theta[1:]\n",
    "        return self\n",
    "```"
   ]
  },
  {
   "cell_type": "code",
   "execution_count": 8,
   "metadata": {},
   "outputs": [
    {
     "data": {
      "text/plain": [
       "(array([3.00706277]), 4.021457858204859)"
      ]
     },
     "execution_count": 8,
     "metadata": {},
     "output_type": "execute_result"
    }
   ],
   "source": [
    "from ML.LinearRegression import LinearRegression\n",
    "lin_reg = LinearRegression()\n",
    "lin_reg.fit_gd(X,y)\n",
    "lin_reg.coef_,lin_reg.interception_"
   ]
  },
  {
   "cell_type": "markdown",
   "metadata": {},
   "source": [
    "## 使用真实数据"
   ]
  },
  {
   "cell_type": "code",
   "execution_count": 9,
   "metadata": {},
   "outputs": [
    {
     "data": {
      "text/plain": [
       "0.8129880620122235"
      ]
     },
     "execution_count": 9,
     "metadata": {},
     "output_type": "execute_result"
    }
   ],
   "source": [
    "#导入真实数据\n",
    "import numpy as np\n",
    "from sklearn import datasets\n",
    "boston = datasets.load_boston()\n",
    "X = boston.data\n",
    "y = boston.target\n",
    "X = X[y < 50.0]\n",
    "y = y[y < 50.0]\n",
    "#使用我们自己封装的split类\n",
    "from ML.model_selection import train_test_split\n",
    "X_train,y_train,X_test,y_test = train_test_split(X,y,seed = 666)\n",
    "#数据归一化\n",
    "from sklearn.preprocessing import StandardScaler\n",
    "standardScaler = StandardScaler()#实例化\n",
    "standardScaler.fit(X_train)\n",
    "X_train_standard = standardScaler.transform(X_train)#获得归一化后的结果\n",
    "X_test_standard = standardScaler.transform(X_test)\n",
    "#使用梯度下降法\n",
    "from ML.LinearRegression import LinearRegression\n",
    "lin_reg_r = LinearRegression()\n",
    "lin_reg_r.fit_gd(X_train_standard,y_train)\n",
    "#pridict\n",
    "lin_reg_r.score(X_test_standard,y_test)"
   ]
  },
  {
   "cell_type": "markdown",
   "metadata": {},
   "source": [
    "### 梯度下降法的优势"
   ]
  },
  {
   "cell_type": "code",
   "execution_count": 10,
   "metadata": {},
   "outputs": [],
   "source": [
    "#生成随机数据\n",
    "m = 1000\n",
    "n = 5000\n",
    "big_X = np.random.normal(size=(m,n))\n",
    "#生成y值\n",
    "true_theta = np.random.uniform(0,100,size=n+1)#theta的真值\n",
    "big_y = big_X.dot(true_theta[1:]) + true_theta[0] + np.random.normal(0.,10.,size=m)#x*k+b+噪音"
   ]
  },
  {
   "cell_type": "code",
   "execution_count": 11,
   "metadata": {},
   "outputs": [
    {
     "name": "stdout",
     "output_type": "stream",
     "text": [
      "Wall time: 12.8 s\n"
     ]
    },
    {
     "data": {
      "text/plain": [
       "LinearRegression()"
      ]
     },
     "execution_count": 11,
     "metadata": {},
     "output_type": "execute_result"
    }
   ],
   "source": [
    "#使用正规方程fit\n",
    "big_reg1 = LinearRegression()\n",
    "%time big_reg1.fit_normal(big_X,big_y)"
   ]
  },
  {
   "cell_type": "code",
   "execution_count": 12,
   "metadata": {},
   "outputs": [
    {
     "name": "stdout",
     "output_type": "stream",
     "text": [
      "Wall time: 6.24 s\n"
     ]
    },
    {
     "data": {
      "text/plain": [
       "LinearRegression()"
      ]
     },
     "execution_count": 12,
     "metadata": {},
     "output_type": "execute_result"
    }
   ],
   "source": [
    "#使用GDfit\n",
    "big_reg2 = LinearRegression()\n",
    "%time big_reg2.fit_gd(big_X,big_y)"
   ]
  },
  {
   "cell_type": "markdown",
   "metadata": {},
   "source": [
    "#### 注：可见，我们的维度越多，GD效率更高，但是例子中，样本数小于特征数，但是在真实中样本数是可能多于特征数的，然而GD要对每一个样本进行梯度下降，当样本数多时，效率可能更低\n",
    "### 批量梯度下降法（BGD）改进：随机梯度下降法（SGD）{用精度换取效率}"
   ]
  },
  {
   "cell_type": "markdown",
   "metadata": {},
   "source": [
    "## 随机梯度下降法"
   ]
  },
  {
   "cell_type": "code",
   "execution_count": 13,
   "metadata": {},
   "outputs": [
    {
     "data": {
      "image/png": "[encoded data removed]",
      "text/plain": [
       "<matplotlib.figure.Figure at 0x226b4bb9668>"
      ]
     },
     "metadata": {},
     "output_type": "display_data"
    }
   ],
   "source": [
    "import numpy as np\n",
    "import matplotlib.pyplot as plt\n",
    "#生成随机数据\n",
    "m = 1000\n",
    "sgd_X = np.random.normal(size=m)\n",
    "sgd_X = sgd_X.reshape(-1,1)\n",
    "sgd_y = 4.*sgd_X[:,0] +3.+np.random.normal(0.,10.,size=m)\n",
    "plt.scatter(sgd_X,sgd_y)\n",
    "plt.show()"
   ]
  },
  {
   "cell_type": "code",
   "execution_count": 14,
   "metadata": {},
   "outputs": [
    {
     "name": "stdout",
     "output_type": "stream",
     "text": [
      "Wall time: 33.1 ms\n"
     ]
    }
   ],
   "source": [
    "%%time\n",
    "sgd_reg2 = LinearRegression()\n",
    "sgd_reg2.fit_gd(sgd_X,sgd_y)\n",
    "sgd_reg2.coef_,sgd_reg2.interception_"
   ]
  },
  {
   "cell_type": "markdown",
   "metadata": {},
   "source": [
    "### 使用随机梯度下降法\n",
    "#### def J(): `np.sum((y - X_b.dot(theta)) ** 2) / len(y)`\n",
    "\n",
    "= $\\frac{1}{m}\\sum_{i=1}^m(y^{(i)} - X_b^{(i)}\\theta)^2$ \n",
    "=  $\\frac{1}{m}\\sum_{i=1}^m(y^{(i)} - \\bar{y}^{(i)})^2$=$MSE(y,\\hat{y})$\n",
    "\n",
    "#### def dJ(): =对j这个向量的每一个元素求偏导:\n",
    "\n",
    "   1.$▽J(\\theta)=\n",
    "   \\begin{pmatrix} \n",
    "   ▽J(\\theta_0)\\\\\n",
    "   ▽J(\\theta_1)\\\\\n",
    "   ▽J(\\theta_2)\\\\\n",
    "   ...\\\\\n",
    "   ▽J(\\theta_n)\n",
    "   \\end{pmatrix} \\quad$\n",
    "   = \n",
    "   $\\frac{2}{m}\\begin{pmatrix} \n",
    "   \\sum_{i=1}^m(X_b^{(i)}\\theta - y^{(i)}) \\\\\n",
    "   \\sum_{i=1}^m(X_b^{(i)}\\theta - y^{(i)})·X_1^{(i)}\\\\\n",
    "   \\sum_{i=1}^m(X_b^{(i)}\\theta - y^{(i)})·X_2^{(i)}\\\\\n",
    "   ...\\\\\n",
    "   \\sum_{i=1}^m(X_b^{(i)}\\theta - y^{(i)}·X_n^{(i)}) \n",
    "   \\end{pmatrix} \\quad$\n",
    "   \n",
    "   `res[0] = np.sum(X_b.dot(theta) - y)  # 对第0项单独处理\n",
    "for i in range(1, len(theta)):  # 其他的n项\n",
    "   res[i] = (X_b.dot(theta) - y).dot(X_b[:, i])\n",
    "   return res * 2 / len(X_b)`\n",
    "   \n",
    "       \n",
    "   2.$▽J(\\theta)=\\frac{2}{m}·\\begin{pmatrix} \n",
    "   \\sum_{i=1}^m(X_b^{(i)}\\theta - y^{(i)})·X_0^{(i)} \\\\\n",
    "   \\sum_{i=1}^m(X_b^{(i)}\\theta - y^{(i)})·X_1^{(i)}\\\\\n",
    "   \\sum_{i=1}^m(X_b^{(i)}\\theta - y^{(i)})·X_2^{(i)}\\\\\n",
    "   ...\\\\\n",
    "   \\sum_{i=1}^m(X_b^{(i)}\\theta - y^{(i)}·X_n^{(i)}) \n",
    "   \\end{pmatrix} \\quad = \n",
    "   \\frac{2}{m}·X_b^T·(X_b\\theta-y)$\n",
    "   ` X_b.T.dot(X_b.dot(theta)-y) * 2./len(X_b)`\n",
    "   \n",
    "##### 在随机梯度下降法中，用随机的方式，每次只取出一个元素，则不需要$\\sum$和除以m\n",
    " $\\begin{pmatrix} \n",
    "   (X_b^{(i)}\\theta - y^{(i)})·X_0^{(i)} \\\\\n",
    "   (X_b^{(i)}\\theta - y^{(i)})·X_1^{(i)}\\\\\n",
    "   (X_b^{(i)}\\theta - y^{(i)})·X_2^{(i)}\\\\\n",
    "   ...\\\\\n",
    "   (X_b^{(i)}\\theta - y^{(i)}·X_n^{(i)}) \n",
    "   \\end{pmatrix} \\quad = \n",
    "   2·(X_b^{(i)})^T·(X_b^{(i)}\\theta-y^{(i)})$\n",
    "   \n",
    "   其中，学习率在随机梯度下降法中：$\\eta = \\frac{t_0}{i_{iters}+t_1}${模拟退火}"
   ]
  },
  {
   "cell_type": "code",
   "execution_count": 15,
   "metadata": {},
   "outputs": [],
   "source": [
    "def dJ_sgd(theta,X_b_i,y_i):\n",
    "    return X_b_i.T.dot(X_b_i.dot(theta) - y_i) *2"
   ]
  },
  {
   "cell_type": "code",
   "execution_count": 16,
   "metadata": {},
   "outputs": [],
   "source": [
    "def sgd(X_b,y,initial_theta,n_iters):\n",
    "    t0 = 5\n",
    "    t1 = 50\n",
    "    #i_iter = t0/(n_iters+t1)\n",
    "    #随机梯度下降法中的iter,学习率\n",
    "    def learning_rate(t):\n",
    "        return t0/(t+t1)\n",
    "    theta = initial_theta\n",
    "    for cur_iter in range(n_iters):#循环条件，循环次数\n",
    "        rand_i = np.random.randint(len(X_b))#随机获取一个样本的索引\n",
    "        gradient = dJ_sgd(theta,X_b[rand_i],y[rand_i])#把随机取出来的样本传给dj_sgd\n",
    "        theta = theta - learning_rate(cur_iter)*gradient#新的theta\n",
    "    return theta"
   ]
  },
  {
   "cell_type": "code",
   "execution_count": 17,
   "metadata": {},
   "outputs": [
    {
     "name": "stdout",
     "output_type": "stream",
     "text": [
      "[1.99222436 4.91772845]\n"
     ]
    }
   ],
   "source": [
    "X_b = np.hstack([np.ones((len(sgd_X),1)),sgd_X])\n",
    "initial_theta = np.zeros(X_b.shape[1])\n",
    "theta = sgd(X_b,sgd_y,initial_theta,n_iters=len(X_b)//3)#我们的随机梯度下降法只需要随机样本总数的1/3就好了\n",
    "print(theta)"
   ]
  },
  {
   "cell_type": "markdown",
   "metadata": {},
   "source": [
    "### 封装我们的随机梯度下降法\n",
    "```python\n",
    "    def fit_sgd(self,X_train,y_train,n_iters=5,t0=5,t1=50):\n",
    "        assert X_train.shape[0] == y_train.shape[0],\\\n",
    "            \"the size of X_train must be equal to the size of y_train\"\n",
    "        assert n_iters > 1,\"fit times must >1\"\n",
    "\n",
    "        def dJ_sgd(theta,X_b_i,y_i):\n",
    "            return X_b_i * (X_b_i.dot(theta)-y_i) * 2.\n",
    "\n",
    "        def sgd(X_b,y,initial_theta,n_iters,t0=5,t1=50):\n",
    "            def learning_rate(t):\n",
    "                return t0 / (t+t1)\n",
    "            theta = initial_theta\n",
    "            m = len(X_b)\n",
    "            for cur_iter in range(n_iters * m):\n",
    "                # 超\n",
    "                # 级\n",
    "                # 重\n",
    "                # 要\n",
    "                # 只用一层循环无法保证，样本都被参照过(应该把样本看5遍)\n",
    "                # 把样本先乱序排列,可以保证样本都被参照过\n",
    "                indexes= np.random.permutation(m)\n",
    "                X_b_new = X_b[indexes]\n",
    "                y_new = y[indexes]\n",
    "                for i in range(m):\n",
    "                    gradient = dJ_sgd(theta, X_b_new[i], y_new[i])#计算梯度\n",
    "                    theta = theta - learning_rate(cur_iter*m + i) * gradient\n",
    "                    #learning_rate(cur_iter*m + i) ，learning_rate中应该是，当前遍历的次数\n",
    "            return theta\n",
    "\n",
    "        X_b = np.hstack([np.ones((len(X_train),1)),X_train])\n",
    "        initial_theta = np.random.randn(X_b.shape[1])\n",
    "        self._theta = sgd(X_b,y_train,initial_theta,n_iters,t0,t1)\n",
    "\n",
    "        self.interception_ = self._theta[0]\n",
    "        self.coef_ = self._theta[1]\n",
    "        return self\n",
    "\n",
    "```"
   ]
  },
  {
   "cell_type": "code",
   "execution_count": 18,
   "metadata": {},
   "outputs": [
    {
     "data": {
      "text/plain": [
       "(array([4.15812894]), 3.150699049394285)"
      ]
     },
     "execution_count": 18,
     "metadata": {},
     "output_type": "execute_result"
    }
   ],
   "source": [
    "from ML.LinearRegression import LinearRegression\n",
    "lr_sgd = LinearRegression()\n",
    "lr_sgd.fit_sgd(sgd_X,sgd_y,n_iters = 2)\n",
    "lr_sgd.coef_,lr_sgd.interception_"
   ]
  },
  {
   "cell_type": "markdown",
   "metadata": {},
   "source": [
    "### 使用真实数据\n"
   ]
  },
  {
   "cell_type": "code",
   "execution_count": 19,
   "metadata": {},
   "outputs": [
    {
     "data": {
      "text/plain": [
       "0.8129727839268047"
      ]
     },
     "execution_count": 19,
     "metadata": {},
     "output_type": "execute_result"
    }
   ],
   "source": [
    "#导入真实数据\n",
    "import numpy as np\n",
    "from sklearn import datasets\n",
    "boston = datasets.load_boston()\n",
    "X = boston.data\n",
    "y = boston.target\n",
    "X = X[y < 50.0]\n",
    "y = y[y < 50.0]\n",
    "#使用我们自己封装的split类\n",
    "from ML.model_selection import train_test_split\n",
    "X_train,y_train,X_test,y_test = train_test_split(X,y,seed = 666)\n",
    "\n",
    "#数据归一化\n",
    "from sklearn.preprocessing import StandardScaler\n",
    "standardScaler = StandardScaler()#实例化\n",
    "standardScaler.fit(X_train)\n",
    "X_train_standard = standardScaler.transform(X_train)#获得归一化后的结果\n",
    "X_test_standard = standardScaler.transform(X_test)\n",
    "#使用我们封装的随机梯度下降法\n",
    "from ML.LinearRegression import LinearRegression\n",
    "lr_sgd_2 = LinearRegression()\n",
    "lr_sgd_2.fit_sgd(X_train_standard,y_train,n_iters=2)\n",
    "lr_sgd_2.score(X_test_standard,y_test)"
   ]
  },
  {
   "cell_type": "markdown",
   "metadata": {},
   "source": [
    "### 使用sklearn中的SGD\n"
   ]
  },
  {
   "cell_type": "code",
   "execution_count": 20,
   "metadata": {},
   "outputs": [
    {
     "name": "stderr",
     "output_type": "stream",
     "text": [
      "c:\\ProgramData\\Anaconda3\\lib\\site-packages\\sklearn\\linear_model\\stochastic_gradient.py:128: FutureWarning: max_iter and tol parameters have been added in <class 'sklearn.linear_model.stochastic_gradient.SGDRegressor'> in 0.19. If both are left unset, they default to max_iter=5 and tol=None. If tol is not None, max_iter defaults to max_iter=1000. From 0.21, default max_iter will be 1000, and default tol will be 1e-3.\n",
      "  \"and default tol will be 1e-3.\" % type(self), FutureWarning)\n"
     ]
    },
    {
     "data": {
      "text/plain": [
       "0.7993532403889403"
      ]
     },
     "execution_count": 20,
     "metadata": {},
     "output_type": "execute_result"
    }
   ],
   "source": [
    "from sklearn.linear_model import SGDRegressor\n",
    "sgd_rgr = SGDRegressor()\n",
    "sgd_rgr.fit(X_train_standard,y_train)\n",
    "sgd_rgr.score(X_test_standard,y_test)"
   ]
  },
  {
   "cell_type": "markdown",
   "metadata": {},
   "source": [
    "## 梯度的调试"
   ]
  },
  {
   "cell_type": "markdown",
   "metadata": {},
   "source": [
    "#### 模拟样本："
   ]
  },
  {
   "cell_type": "code",
   "execution_count": 21,
   "metadata": {},
   "outputs": [
    {
     "data": {
      "text/plain": [
       "array([ 1.,  2.,  3.,  4.,  5.,  6.,  7.,  8.,  9., 10., 11.])"
      ]
     },
     "execution_count": 21,
     "metadata": {},
     "output_type": "execute_result"
    }
   ],
   "source": [
    "import numpy as np\n",
    "import matplotlib.pyplot as plt\n",
    "#10个特征：\n",
    "np.random.seed(666)\n",
    "X = np.random.random(size = (1000,10))#1000个10维的样本\n",
    "#真正的10个theta\n",
    "true_theta = np.arange(1,12,dtype=float)\n",
    "#X和y\n",
    "X_b = np.hstack([np.ones((len(X),1)),X])\n",
    "y = X_b.dot(true_theta)+np.random.normal(size=1000)\n",
    "#true_theta\n",
    "true_theta"
   ]
  },
  {
   "cell_type": "code",
   "execution_count": 22,
   "metadata": {},
   "outputs": [],
   "source": [
    "#我们的梯度下降法\n",
    "def J(theta, X_b, y):  # 计算损失函数\n",
    "            try:\n",
    "                return np.sum((y - X_b.dot(theta)) ** 2) / len(y)\n",
    "            except:\n",
    "                return float('inf')"
   ]
  },
  {
   "cell_type": "code",
   "execution_count": 23,
   "metadata": {},
   "outputs": [],
   "source": [
    "#我们推导出来的求导结果{划重点，推导的，不能复用}\n",
    "def dJ_math(theta,X_b,y):\n",
    "    return X_b.T.dot(X_b.dot(theta)-y) * 2./len(X_b)"
   ]
  },
  {
   "cell_type": "code",
   "execution_count": 24,
   "metadata": {},
   "outputs": [],
   "source": [
    "#我们用来调试的方法{可以复用}\n",
    "def dJ_debug(theta,X_b,y,epsilon=0.01):\n",
    "    res = np.empty(len(theta))\n",
    "    for i in range(len(theta)):\n",
    "        theta_plus = theta.copy()\n",
    "        theta_minus = theta.copy()\n",
    "        theta_plus[i] +=epsilon\n",
    "        theta_minus[i] -=epsilon\n",
    "        res[i] = (J(theta_plus,X_b,y) - J(theta_minus,X_b,y)) / (2*epsilon)\n",
    "    return res\n"
   ]
  },
  {
   "cell_type": "code",
   "execution_count": 25,
   "metadata": {},
   "outputs": [],
   "source": [
    "# 验证函数，批量梯度下降法\n",
    "def gradient_descent(dJ,X_b, y, initial_theta, eta, n_iters=1e4, epsilon=1e-8):\n",
    "            theta = initial_theta\n",
    "            cur_iter = 0\n",
    "\n",
    "            while cur_iter < n_iters:\n",
    "                gradient = dJ(theta, X_b, y)\n",
    "                old_theta = theta\n",
    "                theta = theta - eta * gradient\n",
    "\n",
    "                if (abs(J(theta, X_b, y) - J(old_theta, X_b, y)) < epsilon):\n",
    "                    break\n",
    "                cur_iter += 1\n",
    "\n",
    "            return theta"
   ]
  },
  {
   "cell_type": "markdown",
   "metadata": {},
   "source": [
    "### 验证"
   ]
  },
  {
   "cell_type": "code",
   "execution_count": 26,
   "metadata": {},
   "outputs": [
    {
     "data": {
      "text/plain": [
       "(array([ 1.1251597 ,  2.05312521,  2.91522497,  4.11895968,  5.05002117,\n",
       "         5.90494046,  6.97383745,  8.00088367,  8.86213468,  9.98608331,\n",
       "        10.90529198]),\n",
       " array([ 1.1251597 ,  2.05312521,  2.91522497,  4.11895968,  5.05002117,\n",
       "         5.90494046,  6.97383745,  8.00088367,  8.86213468,  9.98608331,\n",
       "        10.90529198]))"
      ]
     },
     "execution_count": 26,
     "metadata": {},
     "output_type": "execute_result"
    }
   ],
   "source": [
    "X_b = np.hstack([np.ones((len(X),1)),X])#对x加一列,y值为原始的y值\n",
    "initial_theta = np.zeros(X_b.shape[1])#theta初始值为0的向量，列数为特征数+1\n",
    "eta = 0.01\n",
    "theta_debug = gradient_descent(dJ_debug,X_b,y,initial_theta,eta)\n",
    "theta_math = gradient_descent(dJ_math,X_b,y,initial_theta,eta)\n",
    "theta_debug,theta_math"
   ]
  },
  {
   "cell_type": "markdown",
   "metadata": {},
   "source": [
    "# 小批量梯度下降法{mini-Batch GD}\n",
    "是BGD和SGD的综合\n",
    "确切的说，是SGD，每次看K个样本的结果，K是一个新的超参数\n"
   ]
  },
  {
   "cell_type": "markdown",
   "metadata": {},
   "source": [
    "## 随机的意义\n",
    "1.跳出局部最优解，更快的运行速度"
   ]
  }
 ],
 "metadata": {
  "kernelspec": {
   "display_name": "Python 3",
   "language": "python",
   "name": "python3"
  },
  "language_info": {
   "codemirror_mode": {
    "name": "ipython",
    "version": 3
   },
   "file_extension": ".py",
   "mimetype": "text/x-python",
   "name": "python",
   "nbconvert_exporter": "python",
   "pygments_lexer": "ipython3",
   "version": "3.6.4"
  }
 },
 "nbformat": 4,
 "nbformat_minor": 2
}
