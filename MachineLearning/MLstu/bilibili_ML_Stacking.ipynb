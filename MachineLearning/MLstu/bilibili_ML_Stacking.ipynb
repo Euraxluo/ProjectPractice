{
 "cells": [
  {
   "cell_type": "markdown",
   "metadata": {},
   "source": [
    "# Stacking\n",
    "    堆叠（也称为元组合）是用于组合来自多个预测模型的信息以生成新模型的模型组合技术。通常，堆叠模型（也称为二级模型）因为它的平滑性和突出每个基本模型在其中执行得最好的能力，并且抹黑其执行不佳的每个基本模型，所以将优于每个单个模型。因此，当基本模型显著不同时，堆叠是最有效的\n",
    "\n",
    "    我们把每个模型的输出结果(predicts)不作综合评价，而是把他们的输出结果(Predictions)作为输入训练一个新的模型(Blending)，把这个新的模型的结果作为预测结果\n",
    "![](https://upload-images.jianshu.io/upload_images/12208146-35f7ffda8cf1aace.png?imageMogr2/auto-orient/strip%7CimageView2/2/w/1240)"
   ]
  },
  {
   "cell_type": "markdown",
   "metadata": {},
   "source": [
    "# Stacking 训练过程\n",
    "先把总体样本分为两份(Training set Split of Subset1 and Subset2),Subset1用来训练我们的多个Predicts，他们(Predicts)的结果(Predictions)训练,把Predictions和Subset2作为输入数据训练Blending\n",
    "![](https://upload-images.jianshu.io/upload_images/12208146-d8392570a941acc6.jpeg?imageMogr2/auto-orient/strip%7CimageView2/2/w/1240)\n",
    "\n",
    "\n",
    "### 参考链接：\n",
    "!(https://blog.csdn.net/u014356002/article/details/54376138)\n",
    "\n",
    "!(https://blog.csdn.net/wstcjf/article/details/77989963)\n",
    "\n",
    "!(https://www.zhihu.com/question/61467937/answer/188191424)"
   ]
  },
  {
   "cell_type": "markdown",
   "metadata": {},
   "source": [
    "# Stacking 调参\n",
    "如何对stacking模型调参\n",
    "    stacking模型调参包括对基模型和元模型进行调参。对于基模型，因为我们在生成元特征的时候要使用相同的K折划分，所以我们使用交叉验证+网格搜索来调参时最好使用与生成元特征相同的Kfold。对于元模型的调参，使用交叉验证+网格搜索来调参时，为了降低过拟合的风险，我们最好也使用与元特征生成时同样的Kfold。\n",
    "综上，stacking方法从一开始就得确定一个Kfold，这个Kfold将伴随对基模型的调参、生成元特征以及对元模型的调参，贯穿整个stacking流程。当然，由于我们生成基模型时未使用全部数据，我们可以使用多个不同的Kfold来生成多个stacking模型然后进行加权，这样可以进一步提高算法的鲁棒性。\n",
    "### 另外，基模型的选择需要考虑的是：基模型之间的相关性要尽量小，同时基模型之间的性能表现不能差距太大。\n"
   ]
  },
  {
   "cell_type": "markdown",
   "metadata": {},
   "source": [
    "### 多层\n",
    "复杂并且容易过拟合，解决过拟合的方法可以参照神经网络\n",
    "![](https://upload-images.jianshu.io/upload_images/12208146-64d26fc40cba4d59.png?imageMogr2/auto-orient/strip%7CimageView2/2/w/1240)"
   ]
  },
  {
   "cell_type": "code",
   "execution_count": null,
   "metadata": {},
   "outputs": [],
   "source": []
  }
 ],
 "metadata": {
  "kernelspec": {
   "display_name": "Python 3",
   "language": "python",
   "name": "python3"
  },
  "language_info": {
   "codemirror_mode": {
    "name": "ipython",
    "version": 3
   },
   "file_extension": ".py",
   "mimetype": "text/x-python",
   "name": "python",
   "nbconvert_exporter": "python",
   "pygments_lexer": "ipython3",
   "version": "3.7.0"
  }
 },
 "nbformat": 4,
 "nbformat_minor": 2
}
