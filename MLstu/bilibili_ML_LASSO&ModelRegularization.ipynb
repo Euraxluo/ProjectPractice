{
 "cells": [
  {
   "cell_type": "markdown",
   "metadata": {},
   "source": [
    "# LASSO 回归\n",
    "### LASSO Regression\n",
    "###### 对于线性回归：\n",
    "目标函数：$J(θ)=MSE(y,\\hat y;θ)$ \n",
    "加入模型正则化：\n",
    "\n",
    "$J(θ)=J(θ)=MSE(y,\\hat y;θ)+α\\sum_{i=1}^{n}|θ_{i}|$"
   ]
  },
  {
   "cell_type": "code",
   "execution_count": 1,
   "metadata": {},
   "outputs": [],
   "source": [
    "import numpy as np\n",
    "import matplotlib.pyplot as plt"
   ]
  },
  {
   "cell_type": "code",
   "execution_count": 2,
   "metadata": {},
   "outputs": [
    {
     "data": {
      "image/png": "[encoded data removed]",
      "text/plain": [
       "<matplotlib.figure.Figure at 0x16716a2c4a8>"
      ]
     },
     "metadata": {},
     "output_type": "display_data"
    }
   ],
   "source": [
    "np.random.seed(42)\n",
    "x = np.random.uniform(-3.0,3.0,size=100)\n",
    "X = x.reshape(-1,1)\n",
    "y = 0.5*x + 3 + np.random.normal(0,1,size=100)\n",
    "plt.scatter(x,y)\n",
    "plt.show()"
   ]
  },
  {
   "cell_type": "code",
   "execution_count": 3,
   "metadata": {},
   "outputs": [],
   "source": [
    "from sklearn.model_selection import train_test_split#数据集分割\n",
    "np.random.seed(666)\n",
    "X_train,X_test,y_train,y_test = train_test_split(X,y)"
   ]
  },
  {
   "cell_type": "code",
   "execution_count": 4,
   "metadata": {},
   "outputs": [],
   "source": [
    "from sklearn.linear_model import Lasso#导入岭回归\n",
    "from sklearn.pipeline import Pipeline#管道\n",
    "from sklearn.preprocessing import PolynomialFeatures#构造多项式\n",
    "from sklearn.preprocessing import StandardScaler#归一化\n",
    "\n",
    "def LassoRegression(degree,alpha):\n",
    "    return Pipeline([\n",
    "        (\"Poly\",PolynomialFeatures(degree = degree)),#构造多项式\n",
    "        (\"std_scaler\",StandardScaler()),#归一化\n",
    "        (\"lin_reg\",Lasso(alpha=alpha))#岭回归\n",
    "    ])"
   ]
  },
  {
   "cell_type": "code",
   "execution_count": 5,
   "metadata": {},
   "outputs": [],
   "source": [
    "#可视化函数，传入的是fit出来的模型\n",
    "def plot_model(model):\n",
    "    #可视化\n",
    "    X_plot = np.linspace(-3,3,100).reshape(100,1)\n",
    "    y_plot = model.predict(X_plot)\n",
    "    plt.scatter(x,y)\n",
    "    plt.plot(X_plot[:,0],y_plot,color=\"r\")\n",
    "    plt.axis([-3,3,0,6])\n",
    "    plt.show()"
   ]
  },
  {
   "cell_type": "code",
   "execution_count": 6,
   "metadata": {},
   "outputs": [
    {
     "name": "stdout",
     "output_type": "stream",
     "text": [
      "1.1213911351818648\n"
     ]
    },
    {
     "data": {
      "image/png": "[encoded data removed]",
      "text/plain": [
       "<matplotlib.figure.Figure at 0x167197cd828>"
      ]
     },
     "metadata": {},
     "output_type": "display_data"
    }
   ],
   "source": [
    "from sklearn.metrics import mean_squared_error#均方差\n",
    "#使用lasso回归\n",
    "lasso1_reg = LassoRegression(20,0.1)\n",
    "lasso1_reg.fit(X_train,y_train)\n",
    "\n",
    "lasso1_preidict = lasso1_reg.predict(X_test)\n",
    "print(mean_squared_error(y_test,lasso1_preidict))\n",
    "\n",
    "plot_model(lasso1_reg)"
   ]
  },
  {
   "cell_type": "code",
   "execution_count": 7,
   "metadata": {},
   "outputs": [
    {
     "name": "stdout",
     "output_type": "stream",
     "text": [
      "1.8408939659515595\n"
     ]
    },
    {
     "data": {
      "image/png": "[encoded data removed]",
      "text/plain": [
       "<matplotlib.figure.Figure at 0x1671983d828>"
      ]
     },
     "metadata": {},
     "output_type": "display_data"
    }
   ],
   "source": [
    "from sklearn.metrics import mean_squared_error#均方差\n",
    "#使用lasso回归\n",
    "lasso2_reg = LassoRegression(20,1)\n",
    "lasso2_reg.fit(X_train,y_train)\n",
    "\n",
    "lasso2_preidict = lasso2_reg.predict(X_test)\n",
    "print(mean_squared_error(y_test,lasso2_preidict))\n",
    "\n",
    "plot_model(lasso2_reg)"
   ]
  },
  {
   "cell_type": "markdown",
   "metadata": {},
   "source": [
    "### Lasso 和 Ridge\n",
    "### Lasso：\n",
    "$J(θ)=MSE(y,\\hat y;θ)+α\\sum_{i=1}^{n}|θ_{i}|$\n",
    "更倾向于是直线，当我们使用lasso时，很多θ前面的系数为0\n",
    "### Ridge：\n",
    "$J(θ)=MSE(y,\\hat y;θ)+\\frac1 2 α\\sum_{i=1}^{n}(θ_{i})^2$\n",
    "更倾向于是直线，当我们使用ridge时，很多θ前面的系数为很小但是还存在\n",
    "### 比较\n",
    "    当α=100时，岭回归甚至还是一个曲线\n",
    "    而当α=0.1时，LASSO回归已经快是一个直线了\n",
    "#### 原因很简单：\n",
    "    Ridge的α项的▽是$θ_{i}$的向量,即便α为无穷，θ也是有值的\n",
    "    LASSO的α项的▽是一个关于θ的sign函数,值为0，1，-1.在回归时，某些特诊项会变为0 "
   ]
  },
  {
   "cell_type": "markdown",
   "metadata": {},
   "source": [
    "### 统计学非常诡异的两个东西：\n",
    " $\\sum_{i=1}^{n}|θ_{i}|$\n",
    "，MAE\n",
    "，曼哈顿距离\n",
    "\n",
    " $\\frac1 2 α\\sum_{i=1}^{n}(θ_{i})^2$\n",
    "，MSE\n",
    "，欧拉距离\n",
    "#### `根方和绝对值`\n",
    "\n",
    "    对于曼哈顿距离和欧拉距离，我们在KNN时对两个距离得到了明可夫斯基距离回忆一下:\n",
    "```\n",
    "距离\n",
    "# 曼哈顿距离(在每个维度的距离):`(np.sum(A - B)**1)**(1/1)`\n",
    "# 欧拉距离(直接距离):`(np.sum((A - B)**2))**(1/2)`\n",
    "# 推导==>明可夫斯基距离:`(np.sum((A - B)**p))**(1/p)`\n",
    "## 由此得到新的超参数：p\n",
    "\n",
    "# 向量空间余弦相似度Cosine Similarity\n",
    "# 调整余弦相似度Adjusted Cosine Similarity\n",
    "# 皮尔森相关系数Pearson Correlation Coefficient\n",
    "# Jaccard相似系数Jaccard Coefficient\n",
    "## 在sklearn.neighbors.KNeighborsClassifier还有一个超参数：metric.是一个string,由class sklearn.neighbors.DistanceMetric定义\n",
    "```\n",
    "\n",
    "我们通过明可夫斯基距离，可以得到Lp范数：\n",
    "## Lp范数：\n",
    "$||X||_{P} = (\\sum_{i=1}^n|X_{i}|^p)^{\\frac{1}{p}}$\n",
    "\n",
    "自然的，对于岭回归和LASSO回归,分别是L2正则(范数)，L1正则\n",
    "这就是所谓的正则回归，过拟合的优化方法之一\n",
    "\n",
    "### L0正则\n",
    "正则项：min{number-of-non-zero-θ}\n",
    "{限制θ项的数量}\n",
    "然而这是NP难问题，解开了我之前的疑惑(为什么不直接筛选某些特征，却要使用正则)\n"
   ]
  },
  {
   "cell_type": "markdown",
   "metadata": {},
   "source": [
    "###  弹性网 Elastic Net\n",
    "同时使用多种正则\n",
    "例如：\n",
    "$J(θ)=J(θ)=MSE(y,\\hat y;θ)+rα\\sum_{i=1}^{n}|θ_{i}|+\\frac{1-r}{2} α\\sum_{i=1}^{n}(θ_{i})^2$\n",
    "\n",
    "引入了新的超参数r"
   ]
  },
  {
   "cell_type": "markdown",
   "metadata": {},
   "source": [
    "### 总结：\n",
    "    1.当特征数较多时，使用弹性网回归，岭回归很吃cpu或者gpu，LASSO回归可能会把某些特征忽略掉\n",
    "    2.LASSO趋向于使的一部分的θ值等于0，意味着LASSO认为这部分θ对应的特征不重要，可以用于特征选择"
   ]
  }
 ],
 "metadata": {
  "kernelspec": {
   "display_name": "Python 3",
   "language": "python",
   "name": "python3"
  },
  "language_info": {
   "codemirror_mode": {
    "name": "ipython",
    "version": 3
   },
   "file_extension": ".py",
   "mimetype": "text/x-python",
   "name": "python",
   "nbconvert_exporter": "python",
   "pygments_lexer": "ipython3",
   "version": "3.6.4"
  }
 },
 "nbformat": 4,
 "nbformat_minor": 2
}
